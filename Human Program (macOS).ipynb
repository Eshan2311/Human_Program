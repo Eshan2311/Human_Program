{
 "cells": [
  {
   "cell_type": "code",
   "execution_count": 38,
   "metadata": {},
   "outputs": [],
   "source": [
    "import pyttsx3\n",
    "import os\n",
    "import webbrowser"
   ]
  },
  {
   "cell_type": "code",
   "execution_count": 39,
   "metadata": {},
   "outputs": [
    {
     "name": "stdout",
     "output_type": "stream",
     "text": [
      "WELCOME\n",
      "\n",
      "Here's the list of applications that i can run for you:\n",
      "-Google Chrome \n",
      "-Whatsapp \n",
      "-Zoom.us \n",
      "-VLC player \n",
      "-microsoft word \n",
      "-microsoft powerpoint \n",
      "-microsoft excel \n",
      "\n",
      "Please tell me , which application from your system would you like me to run\n",
      "chrome\n",
      "\n",
      "Would you like me to run more application for you (Y/N) :n\n",
      "GOOD BYE...\n"
     ]
    }
   ],
   "source": [
    "#welcoming the user\n",
    "print('WELCOME')\n",
    "pyttsx3.speak('welcome')\n",
    "print('\\nHere\\'s the list of applications that i can run for you:')\n",
    "\n",
    "#list operations\n",
    "pyttsx3.speak('Here\\'s the list of applications that i can run for you')\n",
    "print('-Google Chrome \\n-Whatsapp \\n-Zoom.us \\n-VLC player \\n-microsoft word \\n-microsoft powerpoint \\n-microsoft excel ')\n",
    "\n",
    "#main program\n",
    "flag=True\n",
    "while flag==True:\n",
    "    \n",
    "    print('\\nPlease tell me , which application from your system would you like me to run')\n",
    "    pyttsx3.speak('Please tell me , which application from your system would you like me to run')\n",
    "    \n",
    "    p=input()\n",
    "    \n",
    "    if ('chrome' in p) or ((('run'in p) or  ('execute' in p)) and ('chrome' in p)):\n",
    "        #os.system(\"open /Applications/Google\\ Chrome.app\")\n",
    "        webbrowser.open_new_tab('chrome://newtab')\n",
    "        \n",
    "    elif(('whatsapp'in p) or ('Whatsapp' in p)) or ((('run'in p) or  ('execute' in p)) and (('Whatsapp' in p)or ('whatsapp' in p))):\n",
    "        os.system(\"open /Applications/WhatsApp.app\")\n",
    "        \n",
    "    elif(('vlc'in p) or ('VLC' in p)) or ((('run'in p) or  ('execute' in p)) and (('VLC' in p)or ('vlc' in p))):\n",
    "        os.system(\"open /Applications/VLC.app\")\n",
    "        \n",
    "    elif(('zoom'in p) or ('Zoom' in p)) or ((('run'in p) or  ('execute' in p)) and (('Zoom' in p)or ('Zoom' in p))):\n",
    "        os.system(\"open /Applications/zoom.us.app\")\n",
    "        \n",
    "    elif(('Word'in p) or ('word' in p)) or ((('run'in p) or  ('execute' in p)) and (('Word' in p)or ('word' in p))):\n",
    "        os.system(\"open /Applications/MicrosoftWord.app\")\n",
    "        \n",
    "    elif(('powerpoint'in p) or ('Powerpoint' in p)) or ((('run'in p) or  ('execute' in p)) and (('powerpoint' in p)or ('Powerpoint' in p))):\n",
    "        os.system(\"open /Applications/MicrosoftPowerPoint.app\")\n",
    "        \n",
    "    elif(('Excel'in p) or ('excel' in p)) or ((('run'in p) or  ('execute' in p)) and (('excel' in p)or ('Excel' in p))):\n",
    "        os.system(\"open /Applications/MicrosoftExcel.app\")\n",
    "        \n",
    "    \n",
    "    #Asking the user if he/she want to continue\n",
    "    print('\\nWould you like me to run more application for you (Y/N) :',end='')\n",
    "    ans=input()\n",
    "    \n",
    "    if ('N' in ans)or ('n'in ans) :\n",
    "        \n",
    "        flag=False\n",
    "        print('GOOD BYE...')\n",
    "        pyttsx3.speak('goodbye')\n",
    "        break\n",
    "        \n",
    "    elif ('Y'in ans) or ('y' in ans):\n",
    "        pass\n",
    "    \n",
    "    else:\n",
    "        print('invalid answer ')\n",
    "        pyttsx3.speak('invalid answer')\n"
   ]
  }
 ],
 "metadata": {
  "kernelspec": {
   "display_name": "Python 3",
   "language": "python",
   "name": "python3"
  },
  "language_info": {
   "codemirror_mode": {
    "name": "ipython",
    "version": 3
   },
   "file_extension": ".py",
   "mimetype": "text/x-python",
   "name": "python",
   "nbconvert_exporter": "python",
   "pygments_lexer": "ipython3",
   "version": "3.8.3"
  }
 },
 "nbformat": 4,
 "nbformat_minor": 4
}
