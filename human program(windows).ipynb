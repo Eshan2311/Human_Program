{
 "cells": [
  {
   "cell_type": "code",
   "execution_count": 10,
   "metadata": {},
   "outputs": [],
   "source": [
    "import pyttsx3\n",
    "import os"
   ]
  },
  {
   "cell_type": "code",
   "execution_count": 12,
   "metadata": {},
   "outputs": [
    {
     "name": "stdout",
     "output_type": "stream",
     "text": [
      "WELCOME\n",
      "\n",
      "Here's the list of applications that i can run for you:\n",
      "-Google Chrome \n",
      "-Notepad \n",
      "-Windows Media player\n",
      "\n",
      "Please tell me , which application from your system would you like me to run\n",
      "h\n",
      "\n",
      "Would you like me to run more application for you (Y/N) :y\n",
      "\n",
      "Please tell me , which application from your system would you like me to run\n",
      "f\n",
      "\n",
      "Would you like me to run more application for you (Y/N) :n\n",
      "GOOD BYE...\n"
     ]
    }
   ],
   "source": [
    "print('WELCOME')\n",
    "pyttsx3.speak('welcome')\n",
    "print('\\nHere\\'s the list of applications that i can run for you:')\n",
    "pyttsx3.speak('Here\\'s the list of applications that i can run for you')\n",
    "print('-Google Chrome \\n-Notepad \\n-Windows Media player')\n",
    "flag=True\n",
    "while flag==True:\n",
    "    print('\\nPlease tell me , which application from your system would you like me to run')\n",
    "    pyttsx3.speak('Please tell me , which application from your system would you like me to run')\n",
    "    p=input()\n",
    "    if ('chrome' in p) or ((('run'in p) or  ('execute' in p)) and ('chrome' in p)):\n",
    "        os.system(\"chrome\")\n",
    "    elif(('editor'in p) or ('Notepad' in p)) or ((('run'in p) or  ('execute' in p)) and (('editor' in p)or ('notepad' in p))):\n",
    "        os.system(\"notepad\")\n",
    "    elif('player'in p) or ((('run'in p) or ('execute' in p)) and ('player'in p)):\n",
    "        os.system(\"wmplayer\")\n",
    "    print('\\nWould you like me to run more application for you (Y/N) :',end='')\n",
    "    ans=input()\n",
    "    if ('N' in ans)or ('n'in ans) :\n",
    "        flag=False\n",
    "        print('GOOD BYE...')\n",
    "        pyttsx3.speak('goodbye')\n",
    "        break\n",
    "    elif ('Y'in ans) or ('y' in ans):\n",
    "        pass\n",
    "    else:\n",
    "        print('invalid answer ')\n",
    "        pyttsx3.speak('invalid answer')\n"
   ]
  }
 ],
 "metadata": {
  "kernelspec": {
   "display_name": "Python 3",
   "language": "python",
   "name": "python3"
  },
  "language_info": {
   "codemirror_mode": {
    "name": "ipython",
    "version": 3
   },
   "file_extension": ".py",
   "mimetype": "text/x-python",
   "name": "python",
   "nbconvert_exporter": "python",
   "pygments_lexer": "ipython3",
   "version": "3.8.3"
  }
 },
 "nbformat": 4,
 "nbformat_minor": 4
}
